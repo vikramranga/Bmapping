{
 "cells": [
  {
   "cell_type": "code",
   "execution_count": 11,
   "id": "42795789",
   "metadata": {},
   "outputs": [
    {
     "data": {
      "text/html": [
       "\n",
       "            <style>\n",
       "                .geemap-dark {\n",
       "                    --jp-widgets-color: white;\n",
       "                    --jp-widgets-label-color: white;\n",
       "                    --jp-ui-font-color1: white;\n",
       "                    --jp-layout-color2: #454545;\n",
       "                    background-color: #383838;\n",
       "                }\n",
       "\n",
       "                .geemap-dark .jupyter-button {\n",
       "                    --jp-layout-color3: #383838;\n",
       "                }\n",
       "\n",
       "                .geemap-colab {\n",
       "                    background-color: var(--colab-primary-surface-color, white);\n",
       "                }\n",
       "\n",
       "                .geemap-colab .jupyter-button {\n",
       "                    --jp-layout-color3: var(--colab-primary-surface-color, white);\n",
       "                }\n",
       "            </style>\n",
       "            "
      ],
      "text/plain": [
       "<IPython.core.display.HTML object>"
      ]
     },
     "metadata": {},
     "output_type": "display_data"
    }
   ],
   "source": [
    "import ee\n",
    "import geemap\n",
    "import numpy as np"
   ]
  },
  {
   "cell_type": "code",
   "execution_count": 5,
   "id": "645fc1d7",
   "metadata": {},
   "outputs": [
    {
     "data": {
      "text/html": [
       "\n",
       "            <style>\n",
       "                .geemap-dark {\n",
       "                    --jp-widgets-color: white;\n",
       "                    --jp-widgets-label-color: white;\n",
       "                    --jp-ui-font-color1: white;\n",
       "                    --jp-layout-color2: #454545;\n",
       "                    background-color: #383838;\n",
       "                }\n",
       "\n",
       "                .geemap-dark .jupyter-button {\n",
       "                    --jp-layout-color3: #383838;\n",
       "                }\n",
       "\n",
       "                .geemap-colab {\n",
       "                    background-color: var(--colab-primary-surface-color, white);\n",
       "                }\n",
       "\n",
       "                .geemap-colab .jupyter-button {\n",
       "                    --jp-layout-color3: var(--colab-primary-surface-color, white);\n",
       "                }\n",
       "            </style>\n",
       "            "
      ],
      "text/plain": [
       "<IPython.core.display.HTML object>"
      ]
     },
     "metadata": {},
     "output_type": "display_data"
    }
   ],
   "source": [
    "# Trigger the authentication flow.\n",
    "ee.Authenticate()\n",
    "\n",
    "# Initialize the library.\n",
    "ee.Initialize(project='ee-vikramscience85')"
   ]
  },
  {
   "cell_type": "code",
   "execution_count": null,
   "id": "9f2c485d",
   "metadata": {},
   "outputs": [],
   "source": [
    "# Define the study area\n"
   ]
  },
  {
   "cell_type": "markdown",
   "id": "e2f49000",
   "metadata": {},
   "source": [
    "Functions Definitions"
   ]
  },
  {
   "cell_type": "code",
   "execution_count": 14,
   "id": "1763b797",
   "metadata": {},
   "outputs": [
    {
     "data": {
      "text/html": [
       "\n",
       "            <style>\n",
       "                .geemap-dark {\n",
       "                    --jp-widgets-color: white;\n",
       "                    --jp-widgets-label-color: white;\n",
       "                    --jp-ui-font-color1: white;\n",
       "                    --jp-layout-color2: #454545;\n",
       "                    background-color: #383838;\n",
       "                }\n",
       "\n",
       "                .geemap-dark .jupyter-button {\n",
       "                    --jp-layout-color3: #383838;\n",
       "                }\n",
       "\n",
       "                .geemap-colab {\n",
       "                    background-color: var(--colab-primary-surface-color, white);\n",
       "                }\n",
       "\n",
       "                .geemap-colab .jupyter-button {\n",
       "                    --jp-layout-color3: var(--colab-primary-surface-color, white);\n",
       "                }\n",
       "            </style>\n",
       "            "
      ],
      "text/plain": [
       "<IPython.core.display.HTML object>"
      ]
     },
     "metadata": {},
     "output_type": "display_data"
    }
   ],
   "source": [
    "# Function to mask pixels with low CS+ QA scores.\n",
    "def maskLowQA(image):\n",
    "    qaBand = 'cs'\n",
    "    clearThreshold = 0.5\n",
    "    mask = image.select(qaBand).gte(clearThreshold)\n",
    "    return image.updateMask(mask)\n",
    "\n",
    "# Function to add NDVI, time, and constant variables\n",
    "def addVariables(image):\n",
    "    #Compute time in fractional years since the epoch.\n",
    "    date = image.date()\n",
    "    years = date.difference(ee.Date('1970-01-01'), 'year')\n",
    "    timeRadians = ee.Image(years.multiply(2 * np.pi))\n",
    "\n",
    "  #Return the image with the added bands.\n",
    "    ndvi = image.normalizedDifference(['B8', 'B4']).rename(['ndvi']);\n",
    "    t = timeRadians.rename('t').float()\n",
    "    constant = ee.Image.constant(1)\n",
    "    return image.addBands([ndvi, t, constant])"
   ]
  },
  {
   "cell_type": "markdown",
   "id": "81813802",
   "metadata": {},
   "source": [
    "Define the satellite image and NDVI"
   ]
  },
  {
   "cell_type": "code",
   "execution_count": 15,
   "id": "a762f3dc",
   "metadata": {},
   "outputs": [
    {
     "data": {
      "text/html": [
       "\n",
       "            <style>\n",
       "                .geemap-dark {\n",
       "                    --jp-widgets-color: white;\n",
       "                    --jp-widgets-label-color: white;\n",
       "                    --jp-ui-font-color1: white;\n",
       "                    --jp-layout-color2: #454545;\n",
       "                    background-color: #383838;\n",
       "                }\n",
       "\n",
       "                .geemap-dark .jupyter-button {\n",
       "                    --jp-layout-color3: #383838;\n",
       "                }\n",
       "\n",
       "                .geemap-colab {\n",
       "                    background-color: var(--colab-primary-surface-color, white);\n",
       "                }\n",
       "\n",
       "                .geemap-colab .jupyter-button {\n",
       "                    --jp-layout-color3: var(--colab-primary-surface-color, white);\n",
       "                }\n",
       "            </style>\n",
       "            "
      ],
      "text/plain": [
       "<IPython.core.display.HTML object>"
      ]
     },
     "metadata": {},
     "output_type": "display_data"
    }
   ],
   "source": [
    "# Initial date of interest (inclusive).\n",
    "i_date = '2019-01-01'\n",
    "\n",
    "# Final date of interest (exclusive).\n",
    "f_date = '2020-01-01'"
   ]
  },
  {
   "cell_type": "code",
   "execution_count": 16,
   "id": "b5ff114d",
   "metadata": {},
   "outputs": [
    {
     "data": {
      "text/html": [
       "\n",
       "            <style>\n",
       "                .geemap-dark {\n",
       "                    --jp-widgets-color: white;\n",
       "                    --jp-widgets-label-color: white;\n",
       "                    --jp-ui-font-color1: white;\n",
       "                    --jp-layout-color2: #454545;\n",
       "                    background-color: #383838;\n",
       "                }\n",
       "\n",
       "                .geemap-dark .jupyter-button {\n",
       "                    --jp-layout-color3: #383838;\n",
       "                }\n",
       "\n",
       "                .geemap-colab {\n",
       "                    background-color: var(--colab-primary-surface-color, white);\n",
       "                }\n",
       "\n",
       "                .geemap-colab .jupyter-button {\n",
       "                    --jp-layout-color3: var(--colab-primary-surface-color, white);\n",
       "                }\n",
       "            </style>\n",
       "            "
      ],
      "text/plain": [
       "<IPython.core.display.HTML object>"
      ]
     },
     "metadata": {},
     "output_type": "display_data"
    }
   ],
   "source": [
    "# Define satellite Image collection.\n",
    "\n",
    "s2 = ee.ImageCollection('COPERNICUS/S2_SR_HARMONIZED')\n",
    "filtered = s2\\\n",
    "           .filter(ee.Filter.date(i_date, f_date))\n",
    "\n",
    "# Load the Cloud Score+ collection\n",
    "csPlus = ee.ImageCollection('GOOGLE/CLOUD_SCORE_PLUS/V1/S2_HARMONIZED')\n",
    "csPlusBands = csPlus.first().bandNames()\n",
    "\n",
    "# We need to add Cloud Score + bands to each Sentinel-2\n",
    "# image in the collection\n",
    "# This is done using the linkCollection() function\n",
    "filteredS2WithCs = filtered.linkCollection(csPlus, csPlusBands)\n",
    "\n",
    "filteredMasked = filteredS2WithCs\\\n",
    "    .map(maskLowQA)\\\n",
    "    .select('B.*')\n",
    "filteredWithVariables = filteredMasked\\\n",
    "    .map(addVariables)\n",
    "ndvi = filteredWithVariables.select('ndvi')"
   ]
  },
  {
   "cell_type": "code",
   "execution_count": 37,
   "id": "42b12efd",
   "metadata": {},
   "outputs": [
    {
     "data": {
      "text/html": [
       "\n",
       "            <style>\n",
       "                .geemap-dark {\n",
       "                    --jp-widgets-color: white;\n",
       "                    --jp-widgets-label-color: white;\n",
       "                    --jp-ui-font-color1: white;\n",
       "                    --jp-layout-color2: #454545;\n",
       "                    background-color: #383838;\n",
       "                }\n",
       "\n",
       "                .geemap-dark .jupyter-button {\n",
       "                    --jp-layout-color3: #383838;\n",
       "                }\n",
       "\n",
       "                .geemap-colab {\n",
       "                    background-color: var(--colab-primary-surface-color, white);\n",
       "                }\n",
       "\n",
       "                .geemap-colab .jupyter-button {\n",
       "                    --jp-layout-color3: var(--colab-primary-surface-color, white);\n",
       "                }\n",
       "            </style>\n",
       "            "
      ],
      "text/plain": [
       "<IPython.core.display.HTML object>"
      ]
     },
     "metadata": {},
     "output_type": "display_data"
    }
   ],
   "source": [
    "# Define the locations -> BL.\n",
    "cl_lon = 77.31343548943137\n",
    "cl_lat = 26.235228705457775\n",
    "cl_poi = ee.Geometry.Point(cl_lon, cl_lat)\n",
    "\n",
    "# Define the locations -> BL.\n",
    "bl_lon = 77.27317789839154\n",
    "bl_lat = 26.252774574587303\n",
    "bl_poi = ee.Geometry.Point(bl_lon, bl_lat)\n",
    "\n",
    "# Define the locations -> LL.\n",
    "ll_lon = 77.29736295603102\n",
    "ll_lat = 26.235864329606734\n",
    "ll_poi = ee.Geometry.Point(ll_lon, ll_lat)"
   ]
  },
  {
   "cell_type": "code",
   "execution_count": 38,
   "id": "6c1900ea",
   "metadata": {},
   "outputs": [
    {
     "data": {
      "text/html": [
       "\n",
       "            <style>\n",
       "                .geemap-dark {\n",
       "                    --jp-widgets-color: white;\n",
       "                    --jp-widgets-label-color: white;\n",
       "                    --jp-ui-font-color1: white;\n",
       "                    --jp-layout-color2: #454545;\n",
       "                    background-color: #383838;\n",
       "                }\n",
       "\n",
       "                .geemap-dark .jupyter-button {\n",
       "                    --jp-layout-color3: #383838;\n",
       "                }\n",
       "\n",
       "                .geemap-colab {\n",
       "                    background-color: var(--colab-primary-surface-color, white);\n",
       "                }\n",
       "\n",
       "                .geemap-colab .jupyter-button {\n",
       "                    --jp-layout-color3: var(--colab-primary-surface-color, white);\n",
       "                }\n",
       "            </style>\n",
       "            "
      ],
      "text/plain": [
       "<IPython.core.display.HTML object>"
      ]
     },
     "metadata": {},
     "output_type": "display_data"
    },
    {
     "data": {
      "application/vnd.jupyter.widget-view+json": {
       "model_id": "b5e86e2356404f32a0fd4fc08b5ca882",
       "version_major": 2,
       "version_minor": 0
      },
      "text/plain": [
       "Map(center=[0, 0], controls=(WidgetControl(options=['position', 'transparent_bg'], widget=SearchDataGUI(childr…"
      ]
     },
     "execution_count": 38,
     "metadata": {},
     "output_type": "execute_result"
    }
   ],
   "source": [
    "# Visualize the Points\n",
    "\n",
    "Map = geemap.Map()\n",
    "Map.addLayer(ll_poi, {}, \"LL\")\n",
    "Map.addLayer(bl_poi, {}, \"BL\")\n",
    "Map.addLayer(cl_poi, {}, \"CL\")\n",
    "\n",
    "Map"
   ]
  },
  {
   "cell_type": "markdown",
   "id": "559fd201",
   "metadata": {},
   "source": [
    "Plot three locational timeseries of NDVI"
   ]
  },
  {
   "cell_type": "code",
   "execution_count": 39,
   "id": "72dd44f2",
   "metadata": {},
   "outputs": [
    {
     "data": {
      "text/html": [
       "\n",
       "            <style>\n",
       "                .geemap-dark {\n",
       "                    --jp-widgets-color: white;\n",
       "                    --jp-widgets-label-color: white;\n",
       "                    --jp-ui-font-color1: white;\n",
       "                    --jp-layout-color2: #454545;\n",
       "                    background-color: #383838;\n",
       "                }\n",
       "\n",
       "                .geemap-dark .jupyter-button {\n",
       "                    --jp-layout-color3: #383838;\n",
       "                }\n",
       "\n",
       "                .geemap-colab {\n",
       "                    background-color: var(--colab-primary-surface-color, white);\n",
       "                }\n",
       "\n",
       "                .geemap-colab .jupyter-button {\n",
       "                    --jp-layout-color3: var(--colab-primary-surface-color, white);\n",
       "                }\n",
       "            </style>\n",
       "            "
      ],
      "text/plain": [
       "<IPython.core.display.HTML object>"
      ]
     },
     "metadata": {},
     "output_type": "display_data"
    },
    {
     "data": {
      "text/plain": [
       "[['id', 'longitude', 'latitude', 'time', 'ndvi'],\n",
       " ['20190105T053219_20190105T053603_T43RGK',\n",
       "  77.29738016839667,\n",
       "  26.235881777645304,\n",
       "  1546666890000,\n",
       "  0.18699186991869918],\n",
       " ['20190110T053211_20190110T053252_T43RGK',\n",
       "  77.29738016839667,\n",
       "  26.235881777645304,\n",
       "  1547098887000,\n",
       "  0.2043222003929273],\n",
       " ['20190115T053159_20190115T053503_T43RGK',\n",
       "  77.29738016839667,\n",
       "  26.235881777645304,\n",
       "  1547530891000,\n",
       "  0.1857638888888889],\n",
       " ['20190120T053131_20190120T053630_T43RGK',\n",
       "  77.29738016839667,\n",
       "  26.235881777645304,\n",
       "  1547962888000,\n",
       "  0.14566929133858267]]"
      ]
     },
     "execution_count": 39,
     "metadata": {},
     "output_type": "execute_result"
    }
   ],
   "source": [
    "# Get the data for the pixel intersecting the point in urban area.\n",
    "ndvi_ll_poi = ndvi.getRegion(ll_poi, scale).getInfo()\n",
    "\n",
    "# Get the data for the pixel intersecting the point in rural area.\n",
    "ndvi_bl_poi = ndvi.getRegion(bl_poi, scale).getInfo()\n",
    "ndvi_cl_poi = ndvi.getRegion(cl_poi, scale).getInfo()\n",
    "\n",
    "# Preview the result.\n",
    "ndvi_ll_poi[:5]"
   ]
  },
  {
   "cell_type": "code",
   "execution_count": 40,
   "id": "ed29bcd2",
   "metadata": {},
   "outputs": [
    {
     "data": {
      "text/html": [
       "\n",
       "            <style>\n",
       "                .geemap-dark {\n",
       "                    --jp-widgets-color: white;\n",
       "                    --jp-widgets-label-color: white;\n",
       "                    --jp-ui-font-color1: white;\n",
       "                    --jp-layout-color2: #454545;\n",
       "                    background-color: #383838;\n",
       "                }\n",
       "\n",
       "                .geemap-dark .jupyter-button {\n",
       "                    --jp-layout-color3: #383838;\n",
       "                }\n",
       "\n",
       "                .geemap-colab {\n",
       "                    background-color: var(--colab-primary-surface-color, white);\n",
       "                }\n",
       "\n",
       "                .geemap-colab .jupyter-button {\n",
       "                    --jp-layout-color3: var(--colab-primary-surface-color, white);\n",
       "                }\n",
       "            </style>\n",
       "            "
      ],
      "text/plain": [
       "<IPython.core.display.HTML object>"
      ]
     },
     "metadata": {},
     "output_type": "display_data"
    }
   ],
   "source": [
    "import pandas as pd\n",
    "\n",
    "def ee_array_to_df(arr, list_of_bands):\n",
    "    \"\"\"Transforms client-side ee.Image.getRegion array to pandas.DataFrame.\"\"\"\n",
    "    df = pd.DataFrame(arr)\n",
    "\n",
    "    # Rearrange the header.\n",
    "    headers = df.iloc[0]\n",
    "    df = pd.DataFrame(df.values[1:], columns=headers)\n",
    "\n",
    "    # Remove rows without data inside.\n",
    "    df = df[['longitude', 'latitude', 'time', *list_of_bands]].dropna()\n",
    "\n",
    "    # Convert the data to numeric values.\n",
    "    for band in list_of_bands:\n",
    "        df[band] = pd.to_numeric(df[band], errors='coerce')\n",
    "\n",
    "    # Convert the time field into a datetime.\n",
    "    df['datetime'] = pd.to_datetime(df['time'], unit='ms')\n",
    "\n",
    "    # Keep the columns of interest.\n",
    "    df = df[['time','datetime',  *list_of_bands]]\n",
    "\n",
    "    return df"
   ]
  },
  {
   "cell_type": "code",
   "execution_count": 41,
   "id": "14ad9d67",
   "metadata": {},
   "outputs": [
    {
     "data": {
      "text/html": [
       "\n",
       "            <style>\n",
       "                .geemap-dark {\n",
       "                    --jp-widgets-color: white;\n",
       "                    --jp-widgets-label-color: white;\n",
       "                    --jp-ui-font-color1: white;\n",
       "                    --jp-layout-color2: #454545;\n",
       "                    background-color: #383838;\n",
       "                }\n",
       "\n",
       "                .geemap-dark .jupyter-button {\n",
       "                    --jp-layout-color3: #383838;\n",
       "                }\n",
       "\n",
       "                .geemap-colab {\n",
       "                    background-color: var(--colab-primary-surface-color, white);\n",
       "                }\n",
       "\n",
       "                .geemap-colab .jupyter-button {\n",
       "                    --jp-layout-color3: var(--colab-primary-surface-color, white);\n",
       "                }\n",
       "            </style>\n",
       "            "
      ],
      "text/plain": [
       "<IPython.core.display.HTML object>"
      ]
     },
     "metadata": {},
     "output_type": "display_data"
    },
    {
     "data": {
      "text/html": [
       "<div>\n",
       "<style scoped>\n",
       "    .dataframe tbody tr th:only-of-type {\n",
       "        vertical-align: middle;\n",
       "    }\n",
       "\n",
       "    .dataframe tbody tr th {\n",
       "        vertical-align: top;\n",
       "    }\n",
       "\n",
       "    .dataframe thead th {\n",
       "        text-align: right;\n",
       "    }\n",
       "</style>\n",
       "<table border=\"1\" class=\"dataframe\">\n",
       "  <thead>\n",
       "    <tr style=\"text-align: right;\">\n",
       "      <th></th>\n",
       "      <th>time</th>\n",
       "      <th>datetime</th>\n",
       "      <th>ndvi</th>\n",
       "    </tr>\n",
       "  </thead>\n",
       "  <tbody>\n",
       "    <tr>\n",
       "      <th>0</th>\n",
       "      <td>1546666890000</td>\n",
       "      <td>2019-01-05 05:41:30</td>\n",
       "      <td>0.708693</td>\n",
       "    </tr>\n",
       "    <tr>\n",
       "      <th>1</th>\n",
       "      <td>1547098887000</td>\n",
       "      <td>2019-01-10 05:41:27</td>\n",
       "      <td>0.857651</td>\n",
       "    </tr>\n",
       "    <tr>\n",
       "      <th>2</th>\n",
       "      <td>1547530891000</td>\n",
       "      <td>2019-01-15 05:41:31</td>\n",
       "      <td>0.612712</td>\n",
       "    </tr>\n",
       "    <tr>\n",
       "      <th>3</th>\n",
       "      <td>1547962888000</td>\n",
       "      <td>2019-01-20 05:41:28</td>\n",
       "      <td>0.837474</td>\n",
       "    </tr>\n",
       "    <tr>\n",
       "      <th>4</th>\n",
       "      <td>1548394892000</td>\n",
       "      <td>2019-01-25 05:41:32</td>\n",
       "      <td>0.579669</td>\n",
       "    </tr>\n",
       "  </tbody>\n",
       "</table>\n",
       "</div>"
      ],
      "text/plain": [
       "0           time            datetime      ndvi\n",
       "0  1546666890000 2019-01-05 05:41:30  0.708693\n",
       "1  1547098887000 2019-01-10 05:41:27  0.857651\n",
       "2  1547530891000 2019-01-15 05:41:31  0.612712\n",
       "3  1547962888000 2019-01-20 05:41:28  0.837474\n",
       "4  1548394892000 2019-01-25 05:41:32  0.579669"
      ]
     },
     "execution_count": 41,
     "metadata": {},
     "output_type": "execute_result"
    }
   ],
   "source": [
    "ndvi_df_ll = ee_array_to_df(ndvi_ll_poi, ['ndvi'])\n",
    "ndvi_df_bl = ee_array_to_df(ndvi_bl_poi, ['ndvi'])\n",
    "ndvi_df_cl = ee_array_to_df(ndvi_cl_poi, ['ndvi'])\n",
    "ndvi_df_ll.head()\n",
    "ndvi_df_bl.head()\n",
    "ndvi_df_cl.head()"
   ]
  },
  {
   "cell_type": "markdown",
   "id": "5417ff5f",
   "metadata": {},
   "source": [
    "Plotting the different lUs - ts NDVI"
   ]
  },
  {
   "cell_type": "code",
   "execution_count": 47,
   "id": "8fc0fabb",
   "metadata": {},
   "outputs": [
    {
     "data": {
      "text/html": [
       "\n",
       "            <style>\n",
       "                .geemap-dark {\n",
       "                    --jp-widgets-color: white;\n",
       "                    --jp-widgets-label-color: white;\n",
       "                    --jp-ui-font-color1: white;\n",
       "                    --jp-layout-color2: #454545;\n",
       "                    background-color: #383838;\n",
       "                }\n",
       "\n",
       "                .geemap-dark .jupyter-button {\n",
       "                    --jp-layout-color3: #383838;\n",
       "                }\n",
       "\n",
       "                .geemap-colab {\n",
       "                    background-color: var(--colab-primary-surface-color, white);\n",
       "                }\n",
       "\n",
       "                .geemap-colab .jupyter-button {\n",
       "                    --jp-layout-color3: var(--colab-primary-surface-color, white);\n",
       "                }\n",
       "            </style>\n",
       "            "
      ],
      "text/plain": [
       "<IPython.core.display.HTML object>"
      ]
     },
     "metadata": {},
     "output_type": "display_data"
    },
    {
     "data": {
      "image/png": "[encoded data removed]",
      "text/plain": [
       "<Figure size 1400x600 with 1 Axes>"
      ]
     },
     "metadata": {},
     "output_type": "display_data"
    }
   ],
   "source": [
    "import matplotlib.pyplot as plt\n",
    "import numpy as np\n",
    "from scipy import optimize\n",
    "%matplotlib inline\n",
    "\n",
    "# subplots\n",
    "fig, ax = plt.subplots(figsize = (14,6))\n",
    "ax.scatter(ndvi_df_ll['datetime'], ndvi_df_ll['ndvi'],\n",
    "           c='black', alpha=0.8, label='LL (data)')\n",
    "ax.scatter(ndvi_df_bl['datetime'], ndvi_df_bl['ndvi'],\n",
    "           c='green', alpha=0.8, label='BL (data)')\n",
    "ax.scatter(ndvi_df_cl['datetime'], ndvi_df_cl['ndvi'],\n",
    "           c='yellow', alpha=0.8, label='CL (data)')\n",
    "\n",
    "# Fit curves.\n",
    "## First, extract x values (times) from the dfs.\n",
    "x_data_ll = np.asanyarray(ndvi_df_ll['time'].apply(float))  # LL\n",
    "x_data_bl = np.asanyarray(ndvi_df_bl['time'].apply(float))  # BL\n",
    "x_data_cl = np.asanyarray(ndvi_df_cl['time'].apply(float))  # CL\n",
    "\n",
    "## Secondly, extract y values (LST) from the dfs.\n",
    "# y_data_ll = np.asanyarray(ndvi_df_ll['ndvi'].apply(float))  # LL\n",
    "# y_data_bl = np.asanyarray(ndvi_df_bl['ndvi'].apply(float))  # BL\n",
    "# y_data_cl = np.asanyarray(ndvi_df_cl['ndvi'].apply(float))  # CL\n",
    "\n",
    "# ## Then, define the fitting function with parameters.\n",
    "# def fit_func(t, lst0, delta_lst, tau, phi):\n",
    "#     return lst0 + (delta_lst/2)*np.sin(2*np.pi*t/tau + phi)\n",
    "\n",
    "# ## Optimize the parameters using a good start p0.\n",
    "# lst0 = 0.4\n",
    "# delta_lst = 0.6\n",
    "# tau = 365*24*3600*1000   # milliseconds in a year\n",
    "# phi = 2*np.pi*4*30.5*3600*1000/tau  # offset regarding when we expect LST(t)=LST0\n",
    "\n",
    "# params_ll, params_covariance_ll = optimize.curve_fit(\n",
    "#     fit_func, x_data_ll, y_data_ll, p0=[lst0, delta_lst, tau, phi])\n",
    "# params_bl, params_covariance_bl = optimize.curve_fit(\n",
    "#     fit_func, x_data_bl, y_data_bl, p0=[lst0, delta_lst, tau, phi])\n",
    "# params_cl, params_covariance_cl = optimize.curve_fit(\n",
    "#     fit_func, x_data_cl, y_data_cl, p0=[lst0, delta_lst, tau, phi])\n",
    "\n",
    "# # Add fitting curves.\n",
    "# ax.plot(ndvi_df_ll['datetime'],\n",
    "#         fit_func(x_data_ll, params_ll[0], params_ll[1], params_ll[2], params_ll[3]),\n",
    "#         label='LL (fitted)', color='black', lw=2.5)\n",
    "# ax.plot(ndvi_df_bl['datetime'],\n",
    "#         fit_func(x_data_bl, params_bl[0], params_bl[1], params_bl[2], params_bl[3]),\n",
    "#         label='BL (fitted)', color='green', lw=2.5)\n",
    "# ax.plot(ndvi_df_cl['datetime'],\n",
    "#         fit_func(x_data_cl, params_cl[0], params_cl[1], params_cl[2], params_cl[3]),\n",
    "#         label='BL (fitted)', color='yellow', lw=2.5)\n",
    "\n",
    "# Add some parameters.\n",
    "ax.set_title('Different LUs', fontsize=16)\n",
    "ax.set_xlabel('Date', fontsize=14)\n",
    "ax.set_ylabel('NDVI', fontsize=14)\n",
    "#ax.set_ylim(-0, 40)\n",
    "ax.grid(lw=0.2)\n",
    "ax.legend(fontsize=14, loc='lower right')\n",
    "\n",
    "plt.show()"
   ]
  }
 ],
 "metadata": {
  "kernelspec": {
   "display_name": "gee",
   "language": "python",
   "name": "python3"
  },
  "language_info": {
   "codemirror_mode": {
    "name": "ipython",
    "version": 3
   },
   "file_extension": ".py",
   "mimetype": "text/x-python",
   "name": "python",
   "nbconvert_exporter": "python",
   "pygments_lexer": "ipython3",
   "version": "3.13.3"
  }
 },
 "nbformat": 4,
 "nbformat_minor": 5
}
