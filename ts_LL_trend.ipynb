{
 "cells": [
  {
   "cell_type": "markdown",
   "id": "9c84be11",
   "metadata": {},
   "source": [
    "# Writting this to check the TS trend"
   ]
  },
  {
   "cell_type": "code",
   "execution_count": 10,
   "id": "a9041524",
   "metadata": {},
   "outputs": [
    {
     "data": {
      "text/html": [
       "\n",
       "            <style>\n",
       "                .geemap-dark {\n",
       "                    --jp-widgets-color: white;\n",
       "                    --jp-widgets-label-color: white;\n",
       "                    --jp-ui-font-color1: white;\n",
       "                    --jp-layout-color2: #454545;\n",
       "                    background-color: #383838;\n",
       "                }\n",
       "\n",
       "                .geemap-dark .jupyter-button {\n",
       "                    --jp-layout-color3: #383838;\n",
       "                }\n",
       "\n",
       "                .geemap-colab {\n",
       "                    background-color: var(--colab-primary-surface-color, white);\n",
       "                }\n",
       "\n",
       "                .geemap-colab .jupyter-button {\n",
       "                    --jp-layout-color3: var(--colab-primary-surface-color, white);\n",
       "                }\n",
       "            </style>\n",
       "            "
      ],
      "text/plain": [
       "<IPython.core.display.HTML object>"
      ]
     },
     "metadata": {},
     "output_type": "display_data"
    }
   ],
   "source": [
    "import ee\n",
    "import geemap\n",
    "import numpy as np"
   ]
  },
  {
   "cell_type": "markdown",
   "id": "29234f44",
   "metadata": {},
   "source": [
    "Authenticate the GEE"
   ]
  },
  {
   "cell_type": "code",
   "execution_count": 6,
   "id": "516fbaf1",
   "metadata": {},
   "outputs": [
    {
     "data": {
      "text/html": [
       "\n",
       "            <style>\n",
       "                .geemap-dark {\n",
       "                    --jp-widgets-color: white;\n",
       "                    --jp-widgets-label-color: white;\n",
       "                    --jp-ui-font-color1: white;\n",
       "                    --jp-layout-color2: #454545;\n",
       "                    background-color: #383838;\n",
       "                }\n",
       "\n",
       "                .geemap-dark .jupyter-button {\n",
       "                    --jp-layout-color3: #383838;\n",
       "                }\n",
       "\n",
       "                .geemap-colab {\n",
       "                    background-color: var(--colab-primary-surface-color, white);\n",
       "                }\n",
       "\n",
       "                .geemap-colab .jupyter-button {\n",
       "                    --jp-layout-color3: var(--colab-primary-surface-color, white);\n",
       "                }\n",
       "            </style>\n",
       "            "
      ],
      "text/plain": [
       "<IPython.core.display.HTML object>"
      ]
     },
     "metadata": {},
     "output_type": "display_data"
    }
   ],
   "source": [
    "# Trigger the authentication flow.\n",
    "ee.Authenticate()\n",
    "\n",
    "# Initialize the library.\n",
    "ee.Initialize(project='ee-vikramscience85')"
   ]
  },
  {
   "cell_type": "markdown",
   "id": "eb5d269d",
   "metadata": {},
   "source": [
    "Functions"
   ]
  },
  {
   "cell_type": "code",
   "execution_count": 11,
   "id": "be33e18b",
   "metadata": {},
   "outputs": [
    {
     "data": {
      "text/html": [
       "\n",
       "            <style>\n",
       "                .geemap-dark {\n",
       "                    --jp-widgets-color: white;\n",
       "                    --jp-widgets-label-color: white;\n",
       "                    --jp-ui-font-color1: white;\n",
       "                    --jp-layout-color2: #454545;\n",
       "                    background-color: #383838;\n",
       "                }\n",
       "\n",
       "                .geemap-dark .jupyter-button {\n",
       "                    --jp-layout-color3: #383838;\n",
       "                }\n",
       "\n",
       "                .geemap-colab {\n",
       "                    background-color: var(--colab-primary-surface-color, white);\n",
       "                }\n",
       "\n",
       "                .geemap-colab .jupyter-button {\n",
       "                    --jp-layout-color3: var(--colab-primary-surface-color, white);\n",
       "                }\n",
       "            </style>\n",
       "            "
      ],
      "text/plain": [
       "<IPython.core.display.HTML object>"
      ]
     },
     "metadata": {},
     "output_type": "display_data"
    }
   ],
   "source": [
    "# Function to mask pixels with low CS+ QA scores.\n",
    "def maskLowQA(image):\n",
    "    qaBand = 'cs'\n",
    "    clearThreshold = 0.5\n",
    "    mask = image.select(qaBand).gte(clearThreshold)\n",
    "    return image.updateMask(mask)\n",
    "\n",
    "# Function to add NDVI, time, and constant variables\n",
    "def addVariables(image):\n",
    "    #Compute time in fractional years since the epoch.\n",
    "    date = image.date()\n",
    "    years = date.difference(ee.Date('1970-01-01'), 'year')\n",
    "    timeRadians = ee.Image(years.multiply(2 * np.pi))\n",
    "\n",
    "  #Return the image with the added bands.\n",
    "    ndvi = image.normalizedDifference(['B8', 'B4']).rename(['ndvi']);\n",
    "    t = timeRadians.rename('t').float()\n",
    "    constant = ee.Image.constant(1)\n",
    "    return image.addBands([ndvi, t, constant])"
   ]
  },
  {
   "cell_type": "code",
   "execution_count": 29,
   "id": "cf736572",
   "metadata": {},
   "outputs": [
    {
     "data": {
      "text/html": [
       "\n",
       "            <style>\n",
       "                .geemap-dark {\n",
       "                    --jp-widgets-color: white;\n",
       "                    --jp-widgets-label-color: white;\n",
       "                    --jp-ui-font-color1: white;\n",
       "                    --jp-layout-color2: #454545;\n",
       "                    background-color: #383838;\n",
       "                }\n",
       "\n",
       "                .geemap-dark .jupyter-button {\n",
       "                    --jp-layout-color3: #383838;\n",
       "                }\n",
       "\n",
       "                .geemap-colab {\n",
       "                    background-color: var(--colab-primary-surface-color, white);\n",
       "                }\n",
       "\n",
       "                .geemap-colab .jupyter-button {\n",
       "                    --jp-layout-color3: var(--colab-primary-surface-color, white);\n",
       "                }\n",
       "            </style>\n",
       "            "
      ],
      "text/plain": [
       "<IPython.core.display.HTML object>"
      ]
     },
     "metadata": {},
     "output_type": "display_data"
    }
   ],
   "source": [
    "# Initial date of interest (inclusive).\n",
    "i_date = '2022-10-01'\n",
    "\n",
    "# Final date of interest (exclusive).\n",
    "f_date = '2025-05-01'"
   ]
  },
  {
   "cell_type": "code",
   "execution_count": null,
   "id": "38157f6f",
   "metadata": {},
   "outputs": [
    {
     "data": {
      "text/html": [
       "\n",
       "            <style>\n",
       "                .geemap-dark {\n",
       "                    --jp-widgets-color: white;\n",
       "                    --jp-widgets-label-color: white;\n",
       "                    --jp-ui-font-color1: white;\n",
       "                    --jp-layout-color2: #454545;\n",
       "                    background-color: #383838;\n",
       "                }\n",
       "\n",
       "                .geemap-dark .jupyter-button {\n",
       "                    --jp-layout-color3: #383838;\n",
       "                }\n",
       "\n",
       "                .geemap-colab {\n",
       "                    background-color: var(--colab-primary-surface-color, white);\n",
       "                }\n",
       "\n",
       "                .geemap-colab .jupyter-button {\n",
       "                    --jp-layout-color3: var(--colab-primary-surface-color, white);\n",
       "                }\n",
       "            </style>\n",
       "            "
      ],
      "text/plain": [
       "<IPython.core.display.HTML object>"
      ]
     },
     "metadata": {},
     "output_type": "display_data"
    }
   ],
   "source": [
    "# Define satellite Image collection.\n",
    "\n",
    "s2 = ee.ImageCollection('COPERNICUS/S2_SR_HARMONIZED')\n",
    "filtered = s2\\\n",
    "           .filter(ee.Filter.date(i_date, f_date))\n",
    "\n",
    "# Load the Cloud Score+ collection\n",
    "csPlus = ee.ImageCollection('GOOGLE/CLOUD_SCORE_PLUS/V1/S2_HARMONIZED')\n",
    "csPlusBands = csPlus.first().bandNames()\n",
    "\n",
    "# We need to add Cloud Score + bands to each Sentinel-2\n",
    "# image in the collection\n",
    "# This is done using the linkCollection() function\n",
    "filteredS2WithCs = filtered.linkCollection(csPlus, csPlusBands)\n",
    "\n",
    "filteredMasked = filteredS2WithCs\\\n",
    "    .map(maskLowQA)\\\n",
    "    .select('B.*')\n",
    "filteredWithVariables = filteredMasked\\\n",
    "    .map(addNDVI)\n",
    "ndvi = filteredWithVariables.select('ndvi')"
   ]
  },
  {
   "cell_type": "code",
   "execution_count": 23,
   "id": "deb1f38c",
   "metadata": {},
   "outputs": [
    {
     "data": {
      "text/html": [
       "\n",
       "            <style>\n",
       "                .geemap-dark {\n",
       "                    --jp-widgets-color: white;\n",
       "                    --jp-widgets-label-color: white;\n",
       "                    --jp-ui-font-color1: white;\n",
       "                    --jp-layout-color2: #454545;\n",
       "                    background-color: #383838;\n",
       "                }\n",
       "\n",
       "                .geemap-dark .jupyter-button {\n",
       "                    --jp-layout-color3: #383838;\n",
       "                }\n",
       "\n",
       "                .geemap-colab {\n",
       "                    background-color: var(--colab-primary-surface-color, white);\n",
       "                }\n",
       "\n",
       "                .geemap-colab .jupyter-button {\n",
       "                    --jp-layout-color3: var(--colab-primary-surface-color, white);\n",
       "                }\n",
       "            </style>\n",
       "            "
      ],
      "text/plain": [
       "<IPython.core.display.HTML object>"
      ]
     },
     "metadata": {},
     "output_type": "display_data"
    }
   ],
   "source": [
    "# Define the locations -> LL.\n",
    "# LL1\n",
    "ll1_lon = 77.30310277777778\n",
    "ll1_lat = 26.241936111111112\n",
    "ll1_poi = ee.Geometry.Point(ll1_lon, ll1_lat)\n",
    "\n",
    "# # LL2\n",
    "# ll2_lon = 77.31343548943137\n",
    "# ll2_lat = 26.235228705457775\n",
    "# ll2_poi = ee.Geometry.Point(ll2_lon, ll2_lat)\n",
    "\n",
    "# # LL3\n",
    "# ll3_lon = 77.31343548943137\n",
    "# ll3_lat = 26.235228705457775\n",
    "# ll3_poi = ee.Geometry.Point(ll3_lon, ll3_lat)\n",
    "\n",
    "# # LL3\n",
    "# ll4_lon = 77.31343548943137\n",
    "# ll4_lat = 26.235228705457775\n",
    "# ll4_poi = ee.Geometry.Point(ll4_lon, ll4_lat)"
   ]
  },
  {
   "cell_type": "code",
   "execution_count": 31,
   "id": "0652c463",
   "metadata": {},
   "outputs": [
    {
     "data": {
      "text/html": [
       "\n",
       "            <style>\n",
       "                .geemap-dark {\n",
       "                    --jp-widgets-color: white;\n",
       "                    --jp-widgets-label-color: white;\n",
       "                    --jp-ui-font-color1: white;\n",
       "                    --jp-layout-color2: #454545;\n",
       "                    background-color: #383838;\n",
       "                }\n",
       "\n",
       "                .geemap-dark .jupyter-button {\n",
       "                    --jp-layout-color3: #383838;\n",
       "                }\n",
       "\n",
       "                .geemap-colab {\n",
       "                    background-color: var(--colab-primary-surface-color, white);\n",
       "                }\n",
       "\n",
       "                .geemap-colab .jupyter-button {\n",
       "                    --jp-layout-color3: var(--colab-primary-surface-color, white);\n",
       "                }\n",
       "            </style>\n",
       "            "
      ],
      "text/plain": [
       "<IPython.core.display.HTML object>"
      ]
     },
     "metadata": {},
     "output_type": "display_data"
    },
    {
     "data": {
      "application/vnd.jupyter.widget-view+json": {
       "model_id": "60e92be5a57141bfbef31565d5663ea5",
       "version_major": 2,
       "version_minor": 0
      },
      "text/plain": [
       "Map(center=[0, 0], controls=(WidgetControl(options=['position', 'transparent_bg'], widget=SearchDataGUI(childr…"
      ]
     },
     "execution_count": 31,
     "metadata": {},
     "output_type": "execute_result"
    }
   ],
   "source": [
    "\n",
    "Map = geemap.Map()\n",
    "Map.addLayer(ll1_poi, {}, \"LL1\")\n",
    "# Map.addLayer(ll2_poi, {}, \"LL2\")\n",
    "# Map.addLayer(ll3_poi, {}, \"LL3\")\n",
    "# Map.addLayer(ll4_poi, {}, \"LL4\")\n",
    "\n",
    "Map"
   ]
  },
  {
   "cell_type": "code",
   "execution_count": 32,
   "id": "1e46023a",
   "metadata": {},
   "outputs": [
    {
     "data": {
      "text/html": [
       "\n",
       "            <style>\n",
       "                .geemap-dark {\n",
       "                    --jp-widgets-color: white;\n",
       "                    --jp-widgets-label-color: white;\n",
       "                    --jp-ui-font-color1: white;\n",
       "                    --jp-layout-color2: #454545;\n",
       "                    background-color: #383838;\n",
       "                }\n",
       "\n",
       "                .geemap-dark .jupyter-button {\n",
       "                    --jp-layout-color3: #383838;\n",
       "                }\n",
       "\n",
       "                .geemap-colab {\n",
       "                    background-color: var(--colab-primary-surface-color, white);\n",
       "                }\n",
       "\n",
       "                .geemap-colab .jupyter-button {\n",
       "                    --jp-layout-color3: var(--colab-primary-surface-color, white);\n",
       "                }\n",
       "            </style>\n",
       "            "
      ],
      "text/plain": [
       "<IPython.core.display.HTML object>"
      ]
     },
     "metadata": {},
     "output_type": "display_data"
    },
    {
     "data": {
      "text/plain": [
       "[['id', 'longitude', 'latitude', 'time', 'ndvi'],\n",
       " ['20221001T052651_20221001T053134_T43RGK',\n",
       "  77.30312938621503,\n",
       "  26.241900490048902,\n",
       "  1664602899468,\n",
       "  0.06330708661417322],\n",
       " ['20221006T052659_20221006T053723_T43RGK',\n",
       "  77.30312938621503,\n",
       "  26.241900490048902,\n",
       "  1665034889602,\n",
       "  None],\n",
       " ['20221011T052741_20221011T053331_T43RGK',\n",
       "  77.30312938621503,\n",
       "  26.241900490048902,\n",
       "  1665466897823,\n",
       "  None],\n",
       " ['20221016T052809_20221016T053343_T43RGK',\n",
       "  77.30312938621503,\n",
       "  26.241900490048902,\n",
       "  1665898891460,\n",
       "  0.09654036243822076]]"
      ]
     },
     "execution_count": 32,
     "metadata": {},
     "output_type": "execute_result"
    }
   ],
   "source": [
    "scale = 10\n",
    "# Get the data for the pixel intersecting the point in urban area.\n",
    "ndvi_ll1_poi = ndvi.getRegion(ll1_poi, scale).getInfo()\n",
    "# ndvi_ll2_poi = ndvi.getRegion(ll2_poi, scale).getInfo()\n",
    "# ndvi_ll3_poi = ndvi.getRegion(ll3_poi, scale).getInfo()\n",
    "# ndvi_ll4_poi = ndvi.getRegion(ll4_poi, scale).getInfo()\n",
    "# Preview the result.\n",
    "ndvi_ll1_poi[:5]"
   ]
  },
  {
   "cell_type": "code",
   "execution_count": 33,
   "id": "e1ac1c93",
   "metadata": {},
   "outputs": [
    {
     "data": {
      "text/html": [
       "\n",
       "            <style>\n",
       "                .geemap-dark {\n",
       "                    --jp-widgets-color: white;\n",
       "                    --jp-widgets-label-color: white;\n",
       "                    --jp-ui-font-color1: white;\n",
       "                    --jp-layout-color2: #454545;\n",
       "                    background-color: #383838;\n",
       "                }\n",
       "\n",
       "                .geemap-dark .jupyter-button {\n",
       "                    --jp-layout-color3: #383838;\n",
       "                }\n",
       "\n",
       "                .geemap-colab {\n",
       "                    background-color: var(--colab-primary-surface-color, white);\n",
       "                }\n",
       "\n",
       "                .geemap-colab .jupyter-button {\n",
       "                    --jp-layout-color3: var(--colab-primary-surface-color, white);\n",
       "                }\n",
       "            </style>\n",
       "            "
      ],
      "text/plain": [
       "<IPython.core.display.HTML object>"
      ]
     },
     "metadata": {},
     "output_type": "display_data"
    }
   ],
   "source": [
    "import pandas as pd\n",
    "\n",
    "def ee_array_to_df(arr, list_of_bands):\n",
    "    \"\"\"Transforms client-side ee.Image.getRegion array to pandas.DataFrame.\"\"\"\n",
    "    df = pd.DataFrame(arr)\n",
    "\n",
    "    # Rearrange the header.\n",
    "    headers = df.iloc[0]\n",
    "    df = pd.DataFrame(df.values[1:], columns=headers)\n",
    "\n",
    "    # Remove rows without data inside.\n",
    "    df = df[['longitude', 'latitude', 'time', *list_of_bands]].dropna()\n",
    "\n",
    "    # Convert the data to numeric values.\n",
    "    for band in list_of_bands:\n",
    "        df[band] = pd.to_numeric(df[band], errors='coerce')\n",
    "\n",
    "    # Convert the time field into a datetime.\n",
    "    df['datetime'] = pd.to_datetime(df['time'], unit='ms')\n",
    "\n",
    "    # Keep the columns of interest.\n",
    "    df = df[['time','datetime',  *list_of_bands]]\n",
    "\n",
    "    return df"
   ]
  },
  {
   "cell_type": "code",
   "execution_count": 34,
   "id": "a90c09c9",
   "metadata": {},
   "outputs": [
    {
     "data": {
      "text/html": [
       "\n",
       "            <style>\n",
       "                .geemap-dark {\n",
       "                    --jp-widgets-color: white;\n",
       "                    --jp-widgets-label-color: white;\n",
       "                    --jp-ui-font-color1: white;\n",
       "                    --jp-layout-color2: #454545;\n",
       "                    background-color: #383838;\n",
       "                }\n",
       "\n",
       "                .geemap-dark .jupyter-button {\n",
       "                    --jp-layout-color3: #383838;\n",
       "                }\n",
       "\n",
       "                .geemap-colab {\n",
       "                    background-color: var(--colab-primary-surface-color, white);\n",
       "                }\n",
       "\n",
       "                .geemap-colab .jupyter-button {\n",
       "                    --jp-layout-color3: var(--colab-primary-surface-color, white);\n",
       "                }\n",
       "            </style>\n",
       "            "
      ],
      "text/plain": [
       "<IPython.core.display.HTML object>"
      ]
     },
     "metadata": {},
     "output_type": "display_data"
    },
    {
     "data": {
      "text/html": [
       "<div>\n",
       "<style scoped>\n",
       "    .dataframe tbody tr th:only-of-type {\n",
       "        vertical-align: middle;\n",
       "    }\n",
       "\n",
       "    .dataframe tbody tr th {\n",
       "        vertical-align: top;\n",
       "    }\n",
       "\n",
       "    .dataframe thead th {\n",
       "        text-align: right;\n",
       "    }\n",
       "</style>\n",
       "<table border=\"1\" class=\"dataframe\">\n",
       "  <thead>\n",
       "    <tr style=\"text-align: right;\">\n",
       "      <th></th>\n",
       "      <th>time</th>\n",
       "      <th>datetime</th>\n",
       "      <th>ndvi</th>\n",
       "    </tr>\n",
       "  </thead>\n",
       "  <tbody>\n",
       "    <tr>\n",
       "      <th>0</th>\n",
       "      <td>1664602899468</td>\n",
       "      <td>2022-10-01 05:41:39.468</td>\n",
       "      <td>0.063307</td>\n",
       "    </tr>\n",
       "    <tr>\n",
       "      <th>3</th>\n",
       "      <td>1665898891460</td>\n",
       "      <td>2022-10-16 05:41:31.460</td>\n",
       "      <td>0.096540</td>\n",
       "    </tr>\n",
       "    <tr>\n",
       "      <th>4</th>\n",
       "      <td>1666330893820</td>\n",
       "      <td>2022-10-21 05:41:33.820</td>\n",
       "      <td>0.113137</td>\n",
       "    </tr>\n",
       "    <tr>\n",
       "      <th>5</th>\n",
       "      <td>1666762891409</td>\n",
       "      <td>2022-10-26 05:41:31.409</td>\n",
       "      <td>0.100994</td>\n",
       "    </tr>\n",
       "    <tr>\n",
       "      <th>6</th>\n",
       "      <td>1667194896097</td>\n",
       "      <td>2022-10-31 05:41:36.097</td>\n",
       "      <td>0.139692</td>\n",
       "    </tr>\n",
       "  </tbody>\n",
       "</table>\n",
       "</div>"
      ],
      "text/plain": [
       "0           time                datetime      ndvi\n",
       "0  1664602899468 2022-10-01 05:41:39.468  0.063307\n",
       "3  1665898891460 2022-10-16 05:41:31.460  0.096540\n",
       "4  1666330893820 2022-10-21 05:41:33.820  0.113137\n",
       "5  1666762891409 2022-10-26 05:41:31.409  0.100994\n",
       "6  1667194896097 2022-10-31 05:41:36.097  0.139692"
      ]
     },
     "execution_count": 34,
     "metadata": {},
     "output_type": "execute_result"
    }
   ],
   "source": [
    "ndvi_df_ll1 = ee_array_to_df(ndvi_ll1_poi, ['ndvi'])\n",
    "# ndvi_df_ll2 = ee_array_to_df(ndvi_ll2_poi, ['ndvi'])\n",
    "# ndvi_df_ll3 = ee_array_to_df(ndvi_ll3_poi, ['ndvi'])\n",
    "# ndvi_df_ll4 = ee_array_to_df(ndvi_ll4_poi, ['ndvi'])\n",
    "ndvi_df_ll1.head()"
   ]
  },
  {
   "cell_type": "code",
   "execution_count": 35,
   "id": "08c9527b",
   "metadata": {},
   "outputs": [
    {
     "data": {
      "text/html": [
       "\n",
       "            <style>\n",
       "                .geemap-dark {\n",
       "                    --jp-widgets-color: white;\n",
       "                    --jp-widgets-label-color: white;\n",
       "                    --jp-ui-font-color1: white;\n",
       "                    --jp-layout-color2: #454545;\n",
       "                    background-color: #383838;\n",
       "                }\n",
       "\n",
       "                .geemap-dark .jupyter-button {\n",
       "                    --jp-layout-color3: #383838;\n",
       "                }\n",
       "\n",
       "                .geemap-colab {\n",
       "                    background-color: var(--colab-primary-surface-color, white);\n",
       "                }\n",
       "\n",
       "                .geemap-colab .jupyter-button {\n",
       "                    --jp-layout-color3: var(--colab-primary-surface-color, white);\n",
       "                }\n",
       "            </style>\n",
       "            "
      ],
      "text/plain": [
       "<IPython.core.display.HTML object>"
      ]
     },
     "metadata": {},
     "output_type": "display_data"
    },
    {
     "data": {
      "image/png": "[encoded data removed]",
      "text/plain": [
       "<Figure size 1400x600 with 1 Axes>"
      ]
     },
     "metadata": {},
     "output_type": "display_data"
    }
   ],
   "source": [
    "import matplotlib.pyplot as plt\n",
    "import numpy as np\n",
    "from scipy import optimize\n",
    "%matplotlib inline\n",
    "\n",
    "# subplots\n",
    "fig, ax = plt.subplots(figsize = (14,6))\n",
    "ax.scatter(ndvi_df_ll1['datetime'], ndvi_df_ll1['ndvi'],\n",
    "           c='black', alpha=0.3, label='LL (data)')\n",
    "# ax.scatter(ndvi_df_ll2['datetime'], ndvi_df_ll2['ndvi'],\n",
    "#            c='green', alpha=0.3, label='LL2 (data)')\n",
    "# ax.scatter(ndvi_df_ll3['datetime'], ndvi_df_ll3['ndvi'],\n",
    "#            c='orange', alpha=0.3, label='LL3 (data)')\n",
    "# ax.scatter(ndvi_df_ll4['datetime'], ndvi_df_ll4['ndvi'],\n",
    "#            c='red', alpha=0.3, label='LL4 (data)')\n",
    "\n",
    "# Plot line\n",
    "ax.plot(ndvi_df_ll1['datetime'], ndvi_df_ll1['ndvi'],\n",
    "           c='black', alpha=0.3, label='LL (data)')\n",
    "# ax.plot(ndvi_df_ll2['datetime'], ndvi_df_ll2['ndvi'],\n",
    "#            c='green', alpha=0.3, label='LL2 (data)')\n",
    "# ax.plot(ndvi_df_ll3['datetime'], ndvi_df_ll3['ndvi'],\n",
    "#            c='orange', alpha=0.3, label='LL3 (data)')\n",
    "# ax.plot(ndvi_df_ll4['datetime'], ndvi_df_ll4['ndvi'],\n",
    "#            c='red', alpha=0.3, label='LL4 (data)')\n",
    "\n",
    "# Fit curves.\n",
    "# ## First, extract x values (times) from the dfs.\n",
    "# x_data_ll1 = np.asanyarray(x_data_ll1['time'].apply(float))  # LL\n",
    "# x_data_ll2 = np.asanyarray(x_data_ll2['time'].apply(float))  # LL2\n",
    "# x_data_ll3 = np.asanyarray(x_data_ll3['time'].apply(float))  # LL3\n",
    "# x_data_ll4 = np.asanyarray(x_data_ll4['time'].apply(float))  # LL4\n",
    "## Secondly, extract y values (LST) from the dfs.\n",
    "# y_data_ll = np.asanyarray(ndvi_df_ll['ndvi'].apply(float))  # LL\n",
    "# y_data_bl = np.asanyarray(ndvi_df_bl['ndvi'].apply(float))  # BL\n",
    "# y_data_cl = np.asanyarray(ndvi_df_cl['ndvi'].apply(float))  # CL\n",
    "\n",
    "# ## Then, define the fitting function with parameters.\n",
    "# def fit_func(t, lst0, delta_lst, tau, phi):\n",
    "#     return lst0 + (delta_lst/2)*np.sin(2*np.pi*t/tau + phi)\n",
    "\n",
    "# ## Optimize the parameters using a good start p0.\n",
    "# lst0 = 0.4\n",
    "# delta_lst = 0.6\n",
    "# tau = 365*24*3600*1000   # milliseconds in a year\n",
    "# phi = 2*np.pi*4*30.5*3600*1000/tau  # offset regarding when we expect LST(t)=LST0\n",
    "\n",
    "# params_ll, params_covariance_ll = optimize.curve_fit(\n",
    "#     fit_func, x_data_ll, y_data_ll, p0=[lst0, delta_lst, tau, phi])\n",
    "# params_bl, params_covariance_bl = optimize.curve_fit(\n",
    "#     fit_func, x_data_bl, y_data_bl, p0=[lst0, delta_lst, tau, phi])\n",
    "# params_cl, params_covariance_cl = optimize.curve_fit(\n",
    "#     fit_func, x_data_cl, y_data_cl, p0=[lst0, delta_lst, tau, phi])\n",
    "\n",
    "# # Add fitting curves.\n",
    "# ax.plot(ndvi_df_ll['datetime'],\n",
    "#         fit_func(x_data_ll, params_ll[0], params_ll[1], params_ll[2], params_ll[3]),\n",
    "#         label='LL (fitted)', color='black', lw=2.5)\n",
    "# ax.plot(ndvi_df_bl['datetime'],\n",
    "#         fit_func(x_data_bl, params_bl[0], params_bl[1], params_bl[2], params_bl[3]),\n",
    "#         label='BL (fitted)', color='green', lw=2.5)\n",
    "# ax.plot(ndvi_df_cl['datetime'],\n",
    "#         fit_func(x_data_cl, params_cl[0], params_cl[1], params_cl[2], params_cl[3]),\n",
    "#         label='BL (fitted)', color='yellow', lw=2.5)\n",
    "\n",
    "# Add some parameters.\n",
    "ax.set_title('Different LUs', fontsize=16)\n",
    "ax.set_xlabel('Date', fontsize=14)\n",
    "ax.set_ylabel('NDVI', fontsize=14)\n",
    "#ax.set_ylim(-0, 40)\n",
    "ax.grid(lw=0.2)\n",
    "ax.legend(fontsize=14, loc='lower right')\n",
    "plt.show()"
   ]
  }
 ],
 "metadata": {
  "kernelspec": {
   "display_name": "gee",
   "language": "python",
   "name": "python3"
  },
  "language_info": {
   "codemirror_mode": {
    "name": "ipython",
    "version": 3
   },
   "file_extension": ".py",
   "mimetype": "text/x-python",
   "name": "python",
   "nbconvert_exporter": "python",
   "pygments_lexer": "ipython3",
   "version": "3.13.3"
  }
 },
 "nbformat": 4,
 "nbformat_minor": 5
}
