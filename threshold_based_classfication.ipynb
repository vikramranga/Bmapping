{
 "cells": [
  {
   "cell_type": "markdown",
   "id": "a2ce0204",
   "metadata": {},
   "source": [
    "# Threshold based mapping\n"
   ]
  },
  {
   "cell_type": "code",
   "execution_count": null,
   "id": "69dbdc5e",
   "metadata": {},
   "outputs": [],
   "source": [
    "import ee\n",
    "import geemap\n",
    "import numpy as np"
   ]
  },
  {
   "cell_type": "code",
   "execution_count": null,
   "id": "ba597d9d",
   "metadata": {},
   "outputs": [],
   "source": [
    "# Trigger the authentication flow.\n",
    "ee.Authenticate()\n",
    "\n",
    "# Initialize the library.\n",
    "ee.Initialize(project='ee-vikramscience85')"
   ]
  },
  {
   "cell_type": "markdown",
   "id": "d649d9d4",
   "metadata": {},
   "source": [
    "### Define Functions"
   ]
  },
  {
   "cell_type": "code",
   "execution_count": null,
   "id": "aa686424",
   "metadata": {},
   "outputs": [],
   "source": [
    "# Function to mask pixels with low CS+ QA scores.\n",
    "def maskLowQA(image):\n",
    "    qaBand = 'cs'\n",
    "    clearThreshold = 0.5\n",
    "    mask = image.select(qaBand).gte(clearThreshold)\n",
    "    return image.updateMask(mask)\n",
    "\n",
    "# Function to add NDVI, time, and constant variables\n",
    "def addNDVI(image):\n",
    "    #Return the image with the added bands.\n",
    "    ndvi = image.normalizedDifference(['B8', 'B4']).rename(['ndvi'])\n",
    "    return image.addBands([ndvi])\n",
    "\n",
    "def permWaterMask():\n",
    "    permWater1 = ee.ImageCollection(\"ESA/WorldCover/v200\")\\\n",
    "            .first()\\\n",
    "            .select('Map')\\\n",
    "            .eq(80)\n",
    "    permWater2 = ee.ImageCollection(\"ESA/WorldCover/v100\")\\\n",
    "            .first()\\\n",
    "            .select('Map')\\\n",
    "            .eq(80)\n",
    "    return permWater1.Or(permWater2)\n",
    "\n",
    "def settleMask():\n",
    "    settle1 = ee.ImageCollection(\"ESA/WorldCover/v200\")\\\n",
    "            .first()\\\n",
    "            .select('Map')\\\n",
    "            .eq(50)\n",
    "    settle2 = ee.ImageCollection(\"ESA/WorldCover/v100\")\\\n",
    "            .first()\\\n",
    "            .select('Map')\\\n",
    "            .eq(50)\n",
    "    return settle1.Or(settle2)\n",
    "\n",
    "def Prethreshold(img1, img2, imag3):\n",
    "    bl = img1.lte(0.4).And(img2.lte(0.4).And(img3.lte(0.4)))\n",
    "    return bl\n",
    "\n",
    "def Postthreshold(img1, img2, imag3):\n",
    "    ll = img1.gte(0.4).And(img2.gte(0.4).And(img3.gte(0.4)))\n",
    "    return ll"
   ]
  },
  {
   "cell_type": "markdown",
   "id": "c3872f9d",
   "metadata": {},
   "source": [
    "### Define the time filter"
   ]
  },
  {
   "cell_type": "code",
   "execution_count": null,
   "id": "f6042035",
   "metadata": {},
   "outputs": [],
   "source": [
    "## Previous Year\n",
    "Pi_date = '2022-01-01' # Initial date of interest (inclusive).\n",
    "Pf_date = '2025-12-30' # Final date of interest (exclusive).\n",
    "\n",
    "## Current Year\n",
    "Ci_date = '2023-01-01' # Initial date of interest (inclusive).\n",
    "Cf_date = '2023-12-30' # Final date of interest (exclusive)."
   ]
  },
  {
   "cell_type": "code",
   "execution_count": null,
   "id": "4d80e8fa",
   "metadata": {},
   "outputs": [],
   "source": [
    "# Define satellite Image collection.\n",
    "s2P = ee.ImageCollection('COPERNICUS/S2_SR_HARMONIZED')\n",
    "filteredP = s2P\\\n",
    "           .filter(ee.Filter.date(Pi_date, Pf_date))\n",
    "           .median()\n",
    "\n",
    "s2A = ee.ImageCollection('COPERNICUS/S2_SR_HARMONIZED')\n",
    "filteredC = s2A\\\n",
    "           .filter(ee.Filter.date(Ci_date, Cf_date))\n",
    "           .median()\n",
    "# Load the Cloud Score+ collection\n",
    "csPlus = ee.ImageCollection('GOOGLE/CLOUD_SCORE_PLUS/V1/S2_HARMONIZED')\n",
    "csPlusBands = csPlus.first().bandNames()\n",
    "\n",
    "# We need to add Cloud Score + bands to each Sentinel-2\n",
    "# image in the collection\n",
    "# This is done using the linkCollection() function\n",
    "filteredS2WithCs_P = filteredP.linkCollection(csPlus, csPlusBands)\n",
    "filteredS2WithCs_C = filteredC.linkCollection(csPlus, csPlusBands)\n",
    "\n",
    "filteredMaskedP = filteredS2WithCs_P\\\n",
    "    .map(maskLowQA)\\\n",
    "    .select('B.*')\n",
    "\n",
    "filteredMaskedC = filteredS2WithCs_C\\\n",
    "    .map(maskLowQA)\\\n",
    "    .select('B.*')\n",
    "\n",
    "filteredWithVariablesP = filteredMaskedP\\\n",
    "    .map(addNDVI)\n",
    "\n",
    "filteredWithVariablesC = filteredMaskedC\\\n",
    "    .map(addNDVI)\n",
    "\n",
    "\n",
    "ndviP = filteredWithVariablesP.select('ndvi')\n",
    "ndviC = filteredWithVariablesC.select('ndvi')"
   ]
  },
  {
   "cell_type": "code",
   "execution_count": null,
   "id": "f3fae2a8",
   "metadata": {},
   "outputs": [],
   "source": []
  }
 ],
 "metadata": {
  "kernelspec": {
   "display_name": "gee",
   "language": "python",
   "name": "python3"
  },
  "language_info": {
   "name": "python",
   "version": "3.13.3"
  }
 },
 "nbformat": 4,
 "nbformat_minor": 5
}
