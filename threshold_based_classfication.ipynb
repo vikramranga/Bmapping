{
 "cells": [
  {
   "cell_type": "markdown",
   "id": "a2ce0204",
   "metadata": {},
   "source": [
    "# Threshold based mapping\n"
   ]
  },
  {
   "cell_type": "code",
   "execution_count": 5,
   "id": "69dbdc5e",
   "metadata": {},
   "outputs": [
    {
     "data": {
      "text/html": [
       "\n",
       "            <style>\n",
       "                .geemap-dark {\n",
       "                    --jp-widgets-color: white;\n",
       "                    --jp-widgets-label-color: white;\n",
       "                    --jp-ui-font-color1: white;\n",
       "                    --jp-layout-color2: #454545;\n",
       "                    background-color: #383838;\n",
       "                }\n",
       "\n",
       "                .geemap-dark .jupyter-button {\n",
       "                    --jp-layout-color3: #383838;\n",
       "                }\n",
       "\n",
       "                .geemap-colab {\n",
       "                    background-color: var(--colab-primary-surface-color, white);\n",
       "                }\n",
       "\n",
       "                .geemap-colab .jupyter-button {\n",
       "                    --jp-layout-color3: var(--colab-primary-surface-color, white);\n",
       "                }\n",
       "            </style>\n",
       "            "
      ],
      "text/plain": [
       "<IPython.core.display.HTML object>"
      ]
     },
     "metadata": {},
     "output_type": "display_data"
    }
   ],
   "source": [
    "import ee\n",
    "import geemap\n",
    "import numpy as np"
   ]
  },
  {
   "cell_type": "code",
   "execution_count": 6,
   "id": "ba597d9d",
   "metadata": {},
   "outputs": [
    {
     "data": {
      "text/html": [
       "\n",
       "            <style>\n",
       "                .geemap-dark {\n",
       "                    --jp-widgets-color: white;\n",
       "                    --jp-widgets-label-color: white;\n",
       "                    --jp-ui-font-color1: white;\n",
       "                    --jp-layout-color2: #454545;\n",
       "                    background-color: #383838;\n",
       "                }\n",
       "\n",
       "                .geemap-dark .jupyter-button {\n",
       "                    --jp-layout-color3: #383838;\n",
       "                }\n",
       "\n",
       "                .geemap-colab {\n",
       "                    background-color: var(--colab-primary-surface-color, white);\n",
       "                }\n",
       "\n",
       "                .geemap-colab .jupyter-button {\n",
       "                    --jp-layout-color3: var(--colab-primary-surface-color, white);\n",
       "                }\n",
       "            </style>\n",
       "            "
      ],
      "text/plain": [
       "<IPython.core.display.HTML object>"
      ]
     },
     "metadata": {},
     "output_type": "display_data"
    }
   ],
   "source": [
    "# Trigger the authentication flow.\n",
    "ee.Authenticate()\n",
    "\n",
    "# Initialize the library.\n",
    "ee.Initialize(project='ee-vikramscience85')"
   ]
  },
  {
   "cell_type": "code",
   "execution_count": 21,
   "id": "93deb16d",
   "metadata": {},
   "outputs": [
    {
     "data": {
      "text/html": [
       "\n",
       "            <style>\n",
       "                .geemap-dark {\n",
       "                    --jp-widgets-color: white;\n",
       "                    --jp-widgets-label-color: white;\n",
       "                    --jp-ui-font-color1: white;\n",
       "                    --jp-layout-color2: #454545;\n",
       "                    background-color: #383838;\n",
       "                }\n",
       "\n",
       "                .geemap-dark .jupyter-button {\n",
       "                    --jp-layout-color3: #383838;\n",
       "                }\n",
       "\n",
       "                .geemap-colab {\n",
       "                    background-color: var(--colab-primary-surface-color, white);\n",
       "                }\n",
       "\n",
       "                .geemap-colab .jupyter-button {\n",
       "                    --jp-layout-color3: var(--colab-primary-surface-color, white);\n",
       "                }\n",
       "            </style>\n",
       "            "
      ],
      "text/plain": [
       "<IPython.core.display.HTML object>"
      ]
     },
     "metadata": {},
     "output_type": "display_data"
    }
   ],
   "source": [
    "#Define Polygon for clipping purpose\n",
    "\n",
    "aoi = ee.Geometry.Polygon([[77.26959756556572,26.223227530131734],\n",
    "[77.3154311532122,26.223227530131734],\n",
    "[77.3154311532122,26.256947297291266],\n",
    "[77.26959756556572,26.256947297291266], \n",
    "[77.26959756556572,26.223227530131734]])\n"
   ]
  },
  {
   "cell_type": "markdown",
   "id": "d649d9d4",
   "metadata": {},
   "source": [
    "### Define Functions"
   ]
  },
  {
   "cell_type": "code",
   "execution_count": 20,
   "id": "aa686424",
   "metadata": {},
   "outputs": [
    {
     "data": {
      "text/html": [
       "\n",
       "            <style>\n",
       "                .geemap-dark {\n",
       "                    --jp-widgets-color: white;\n",
       "                    --jp-widgets-label-color: white;\n",
       "                    --jp-ui-font-color1: white;\n",
       "                    --jp-layout-color2: #454545;\n",
       "                    background-color: #383838;\n",
       "                }\n",
       "\n",
       "                .geemap-dark .jupyter-button {\n",
       "                    --jp-layout-color3: #383838;\n",
       "                }\n",
       "\n",
       "                .geemap-colab {\n",
       "                    background-color: var(--colab-primary-surface-color, white);\n",
       "                }\n",
       "\n",
       "                .geemap-colab .jupyter-button {\n",
       "                    --jp-layout-color3: var(--colab-primary-surface-color, white);\n",
       "                }\n",
       "            </style>\n",
       "            "
      ],
      "text/plain": [
       "<IPython.core.display.HTML object>"
      ]
     },
     "metadata": {},
     "output_type": "display_data"
    }
   ],
   "source": [
    "# Function to mask pixels with low CS+ QA scores.\n",
    "def maskLowQA(image):\n",
    "    qaBand = 'cs'\n",
    "    clearThreshold = 0.5\n",
    "    mask = image.select(qaBand).gte(clearThreshold)\n",
    "    return image.updateMask(mask)\n",
    "\n",
    "# Function to add NDVI, time, and constant variables\n",
    "def addNDVI(image):\n",
    "    #Return the image with the added bands.\n",
    "    ndvi = image.normalizedDifference(['B8', 'B4']).rename(['ndvi'])\n",
    "    return image.addBands([ndvi])\n",
    "\n",
    "def permWaterMask():\n",
    "    permWater1 = ee.ImageCollection(\"ESA/WorldCover/v200\")\\\n",
    "            .first()\\\n",
    "            .select('Map')\\\n",
    "            .eq(80)\n",
    "    permWater2 = ee.ImageCollection(\"ESA/WorldCover/v100\")\\\n",
    "            .first()\\\n",
    "            .select('Map')\\\n",
    "            .eq(80)\n",
    "    return permWater1.Or(permWater2)\n",
    "\n",
    "def settleMask():\n",
    "    settle1 = ee.ImageCollection(\"ESA/WorldCover/v200\")\\\n",
    "            .first()\\\n",
    "            .select('Map')\\\n",
    "            .eq(50)\n",
    "    settle2 = ee.ImageCollection(\"ESA/WorldCover/v100\")\\\n",
    "            .first()\\\n",
    "            .select('Map')\\\n",
    "            .eq(50)\n",
    "    return settle1.Or(settle2)\n",
    "\n",
    "def Prethreshold(img1, img2, imag3):\n",
    "    bl = img1.lte(0.4).And(img2.lte(0.4).And(img3.lte(0.4)))\n",
    "    return bl\n",
    "\n",
    "def Postthreshold(img1, img2, imag3):\n",
    "    ll = img1.gte(0.4).And(img2.gte(0.4).And(img3.gte(0.4)))\n",
    "    return ll\n",
    "\n",
    "def clipFun(img):\n",
    "    return img.clip(aoi)"
   ]
  },
  {
   "cell_type": "markdown",
   "id": "c3872f9d",
   "metadata": {},
   "source": [
    "### Define the time filter"
   ]
  },
  {
   "cell_type": "code",
   "execution_count": 68,
   "id": "f6042035",
   "metadata": {},
   "outputs": [
    {
     "data": {
      "text/html": [
       "\n",
       "            <style>\n",
       "                .geemap-dark {\n",
       "                    --jp-widgets-color: white;\n",
       "                    --jp-widgets-label-color: white;\n",
       "                    --jp-ui-font-color1: white;\n",
       "                    --jp-layout-color2: #454545;\n",
       "                    background-color: #383838;\n",
       "                }\n",
       "\n",
       "                .geemap-dark .jupyter-button {\n",
       "                    --jp-layout-color3: #383838;\n",
       "                }\n",
       "\n",
       "                .geemap-colab {\n",
       "                    background-color: var(--colab-primary-surface-color, white);\n",
       "                }\n",
       "\n",
       "                .geemap-colab .jupyter-button {\n",
       "                    --jp-layout-color3: var(--colab-primary-surface-color, white);\n",
       "                }\n",
       "            </style>\n",
       "            "
      ],
      "text/plain": [
       "<IPython.core.display.HTML object>"
      ]
     },
     "metadata": {},
     "output_type": "display_data"
    },
    {
     "name": "stdout",
     "output_type": "stream",
     "text": [
      "2025-01-01\n",
      "2025-01-16\n"
     ]
    }
   ],
   "source": [
    "# This is for previous year\n",
    "# Define Year\n",
    "year = '2025'\n",
    "\n",
    "# Define intervals\n",
    "jan1fn = ['-01-01', '-01-16']\n",
    "jan2fn = ['-01-16', '-02-01']\n",
    "feb1fn = ['-02-01', '-02-16']\n",
    "feb2fn = ['-02-16', '-03-01']\n",
    "mar1fn = ['-03-01', '-03-16']\n",
    "mar2fn = ['-03-16', '-04-01']\n",
    "print(year+jan1fn[0])\n",
    "print(year+jan1fn[1])\n"
   ]
  },
  {
   "cell_type": "code",
   "execution_count": 69,
   "id": "4d80e8fa",
   "metadata": {},
   "outputs": [
    {
     "data": {
      "text/html": [
       "\n",
       "            <style>\n",
       "                .geemap-dark {\n",
       "                    --jp-widgets-color: white;\n",
       "                    --jp-widgets-label-color: white;\n",
       "                    --jp-ui-font-color1: white;\n",
       "                    --jp-layout-color2: #454545;\n",
       "                    background-color: #383838;\n",
       "                }\n",
       "\n",
       "                .geemap-dark .jupyter-button {\n",
       "                    --jp-layout-color3: #383838;\n",
       "                }\n",
       "\n",
       "                .geemap-colab {\n",
       "                    background-color: var(--colab-primary-surface-color, white);\n",
       "                }\n",
       "\n",
       "                .geemap-colab .jupyter-button {\n",
       "                    --jp-layout-color3: var(--colab-primary-surface-color, white);\n",
       "                }\n",
       "            </style>\n",
       "            "
      ],
      "text/plain": [
       "<IPython.core.display.HTML object>"
      ]
     },
     "metadata": {},
     "output_type": "display_data"
    }
   ],
   "source": [
    "# Define satellite Image collection.\n",
    "s2 = ee.ImageCollection('COPERNICUS/S2_SR_HARMONIZED')\n",
    "filtered = s2\\\n",
    "           .filter(ee.Filter.date(year+jan1fn[0], year+mar2fn[1]))\\\n",
    "           .filter(ee.Filter.bounds(aoi))\n",
    "# Load the Cloud Score+ collection\n",
    "csPlus = ee.ImageCollection('GOOGLE/CLOUD_SCORE_PLUS/V1/S2_HARMONIZED')\n",
    "csPlusBands = csPlus.first().bandNames()\n",
    "\n",
    "# We need to add Cloud Score + bands to each Sentinel-2\n",
    "# image in the collection\n",
    "# This is done using the linkCollection() function\n",
    "filteredS2WithCs = filtered.linkCollection(csPlus, csPlusBands)\n",
    "\n",
    "jan1fnIC = filteredS2WithCs\\\n",
    "    .filter(ee.Filter.date(year+jan1fn[0], year+jan1fn[1]))\\\n",
    "    .map(maskLowQA)\\\n",
    "    .select('B.*')\\\n",
    "    .map(addNDVI)\\\n",
    "    .median()\\\n",
    "    .select('ndvi')\\\n",
    "    .clip(aoi)\\\n",
    "    .rename('J1')\n",
    "\n",
    "jan2fnIC = filteredS2WithCs\\\n",
    "    .filter(ee.Filter.date(year+jan2fn[0], year+jan2fn[1]))\\\n",
    "    .map(maskLowQA)\\\n",
    "    .select('B.*')\\\n",
    "    .map(addNDVI)\\\n",
    "    .median()\\\n",
    "    .select('ndvi')\\\n",
    "    .clip(aoi)\\\n",
    "    .rename('J2')\n",
    "\n",
    "feb1fnIC = filteredS2WithCs\\\n",
    "    .filter(ee.Filter.date(year+feb1fn[0], year+feb1fn[1]))\\\n",
    "    .map(maskLowQA)\\\n",
    "    .select('B.*')\\\n",
    "    .map(addNDVI)\\\n",
    "    .median()\\\n",
    "    .select('ndvi')\\\n",
    "    .clip(aoi)\\\n",
    "    .rename('F1')\n",
    "\n",
    "feb2fnIC = filteredS2WithCs\\\n",
    "    .filter(ee.Filter.date(year+feb2fn[0], year+feb2fn[1]))\\\n",
    "    .map(maskLowQA)\\\n",
    "    .select('B.*')\\\n",
    "    .map(addNDVI)\\\n",
    "    .median()\\\n",
    "    .select('ndvi')\\\n",
    "    .clip(aoi)\\\n",
    "    .rename('F2')\n",
    "\n",
    "mar1fnIC = filteredS2WithCs\\\n",
    "    .filter(ee.Filter.date(year+mar1fn[0], year+mar1fn[1]))\\\n",
    "    .map(maskLowQA)\\\n",
    "    .select('B.*')\\\n",
    "    .map(addNDVI)\\\n",
    "    .median()\\\n",
    "    .select('ndvi')\\\n",
    "    .clip(aoi)\\\n",
    "    .rename('M1')\n",
    "\n",
    "mar2fnIC = filteredS2WithCs\\\n",
    "    .filter(ee.Filter.date(year+mar2fn[0], year+mar2fn[1]))\\\n",
    "    .map(maskLowQA)\\\n",
    "    .select('B.*')\\\n",
    "    .map(addNDVI)\\\n",
    "    .median()\\\n",
    "    .select('ndvi')\\\n",
    "    .clip(aoi)\\\n",
    "    .rename('M2')\n"
   ]
  },
  {
   "cell_type": "code",
   "execution_count": 70,
   "id": "ea566431",
   "metadata": {},
   "outputs": [
    {
     "data": {
      "text/html": [
       "\n",
       "            <style>\n",
       "                .geemap-dark {\n",
       "                    --jp-widgets-color: white;\n",
       "                    --jp-widgets-label-color: white;\n",
       "                    --jp-ui-font-color1: white;\n",
       "                    --jp-layout-color2: #454545;\n",
       "                    background-color: #383838;\n",
       "                }\n",
       "\n",
       "                .geemap-dark .jupyter-button {\n",
       "                    --jp-layout-color3: #383838;\n",
       "                }\n",
       "\n",
       "                .geemap-colab {\n",
       "                    background-color: var(--colab-primary-surface-color, white);\n",
       "                }\n",
       "\n",
       "                .geemap-colab .jupyter-button {\n",
       "                    --jp-layout-color3: var(--colab-primary-surface-color, white);\n",
       "                }\n",
       "            </style>\n",
       "            "
      ],
      "text/plain": [
       "<IPython.core.display.HTML object>"
      ]
     },
     "metadata": {},
     "output_type": "display_data"
    },
    {
     "data": {
      "text/plain": [
       "{'type': 'Image',\n",
       " 'bands': [{'id': 'J1',\n",
       "   'data_type': {'type': 'PixelType', 'precision': 'int', 'min': 0, 'max': 1},\n",
       "   'dimensions': [2, 2],\n",
       "   'origin': [76, 25],\n",
       "   'crs': 'EPSG:4326',\n",
       "   'crs_transform': [1, 0, 0, 0, 1, 0]}]}"
      ]
     },
     "execution_count": 70,
     "metadata": {},
     "output_type": "execute_result"
    }
   ],
   "source": [
    "#Identify BL\n",
    "\n",
    "composite = jan1fnIC.addBands(jan2fnIC).addBands(feb1fnIC).addBands(feb2fnIC).addBands(mar1fnIC).addBands(mar2fnIC)\n",
    "BL = jan1fnIC.lte(0.4).And(jan2fnIC.lte(0.4)).And(feb1fnIC.lte(0.4)).And(feb2fnIC.lte(0.4)).And(mar1fnIC.lte(0.4)).And(mar2fnIC.lte(0.4))\n",
    "BL = BL.multiply(1)\n",
    "BL.getInfo()"
   ]
  },
  {
   "cell_type": "code",
   "execution_count": null,
   "id": "ff919c13",
   "metadata": {},
   "outputs": [],
   "source": []
  },
  {
   "cell_type": "code",
   "execution_count": 71,
   "id": "57bb25ec",
   "metadata": {},
   "outputs": [
    {
     "data": {
      "text/html": [
       "\n",
       "            <style>\n",
       "                .geemap-dark {\n",
       "                    --jp-widgets-color: white;\n",
       "                    --jp-widgets-label-color: white;\n",
       "                    --jp-ui-font-color1: white;\n",
       "                    --jp-layout-color2: #454545;\n",
       "                    background-color: #383838;\n",
       "                }\n",
       "\n",
       "                .geemap-dark .jupyter-button {\n",
       "                    --jp-layout-color3: #383838;\n",
       "                }\n",
       "\n",
       "                .geemap-colab {\n",
       "                    background-color: var(--colab-primary-surface-color, white);\n",
       "                }\n",
       "\n",
       "                .geemap-colab .jupyter-button {\n",
       "                    --jp-layout-color3: var(--colab-primary-surface-color, white);\n",
       "                }\n",
       "            </style>\n",
       "            "
      ],
      "text/plain": [
       "<IPython.core.display.HTML object>"
      ]
     },
     "metadata": {},
     "output_type": "display_data"
    },
    {
     "data": {
      "application/vnd.jupyter.widget-view+json": {
       "model_id": "7106f480c370435e88a0809fd9689e78",
       "version_major": 2,
       "version_minor": 0
      },
      "text/plain": [
       "Map(center=[26.24008841605283, 77.29251435938804], controls=(WidgetControl(options=['position', 'transparent_b…"
      ]
     },
     "execution_count": 71,
     "metadata": {},
     "output_type": "execute_result"
    }
   ],
   "source": [
    "Map = geemap.Map()\n",
    "Map.addLayer(aoi, {}, 'AOI')\n",
    "Map.centerObject(aoi, 12)\n",
    "Map.addLayer(jan1fnIC, {}, \"Jan 1FN\")\n",
    "Map.addLayer(jan2fnIC, {}, \"Jan 2FN\")\n",
    "Map.addLayer(feb1fnIC, {}, \"Feb 1FN\")\n",
    "Map.addLayer(feb2fnIC, {}, \"Feb 2FN\")\n",
    "Map.addLayer(mar1fnIC, {}, \"Mar 1FN\")\n",
    "Map.addLayer(mar2fnIC, {}, \"Mar 2FN\")\n",
    "Map.addLayer(BL, {1:'red'}, \"BL\")\n",
    "Map"
   ]
  },
  {
   "cell_type": "code",
   "execution_count": 72,
   "id": "f3fae2a8",
   "metadata": {},
   "outputs": [
    {
     "data": {
      "text/html": [
       "\n",
       "            <style>\n",
       "                .geemap-dark {\n",
       "                    --jp-widgets-color: white;\n",
       "                    --jp-widgets-label-color: white;\n",
       "                    --jp-ui-font-color1: white;\n",
       "                    --jp-layout-color2: #454545;\n",
       "                    background-color: #383838;\n",
       "                }\n",
       "\n",
       "                .geemap-dark .jupyter-button {\n",
       "                    --jp-layout-color3: #383838;\n",
       "                }\n",
       "\n",
       "                .geemap-colab {\n",
       "                    background-color: var(--colab-primary-surface-color, white);\n",
       "                }\n",
       "\n",
       "                .geemap-colab .jupyter-button {\n",
       "                    --jp-layout-color3: var(--colab-primary-surface-color, white);\n",
       "                }\n",
       "            </style>\n",
       "            "
      ],
      "text/plain": [
       "<IPython.core.display.HTML object>"
      ]
     },
     "metadata": {},
     "output_type": "display_data"
    }
   ],
   "source": [
    "task = ee.batch.Export.image.toDrive(**{'image':BL,\n",
    "                                     'description':'BL',\n",
    "                                     'scale':10,\n",
    "                                     'folder': \"C_BL\",\n",
    "                                     'region':aoi,\n",
    "                                     'fileNamePrefix':'BL'+'_'+year,\n",
    "                                     'fileFormat':'GeoTIFF'\n",
    "                                     })\n",
    "task.start()"
   ]
  },
  {
   "cell_type": "code",
   "execution_count": null,
   "id": "95c092b9",
   "metadata": {},
   "outputs": [],
   "source": [
    "\n",
    "\n"
   ]
  }
 ],
 "metadata": {
  "kernelspec": {
   "display_name": "gee",
   "language": "python",
   "name": "python3"
  },
  "language_info": {
   "codemirror_mode": {
    "name": "ipython",
    "version": 3
   },
   "file_extension": ".py",
   "mimetype": "text/x-python",
   "name": "python",
   "nbconvert_exporter": "python",
   "pygments_lexer": "ipython3",
   "version": "3.13.3"
  }
 },
 "nbformat": 4,
 "nbformat_minor": 5
}
