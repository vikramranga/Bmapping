{
 "cells": [
  {
   "cell_type": "code",
   "execution_count": 1,
   "id": "0e29e843",
   "metadata": {},
   "outputs": [],
   "source": [
    "def degDec(deg, min, sec):\n",
    "    min = min/60\n",
    "    sec = sec/3600\n",
    "    return deg+min+sec\n"
   ]
  },
  {
   "cell_type": "code",
   "execution_count": 3,
   "id": "2de5f39a",
   "metadata": {},
   "outputs": [
    {
     "data": {
      "text/plain": [
       "26.2357"
      ]
     },
     "execution_count": 3,
     "metadata": {},
     "output_type": "execute_result"
    }
   ],
   "source": [
    "degDec(26, 14, 8.52)"
   ]
  },
  {
   "cell_type": "code",
   "execution_count": 4,
   "id": "0be809cb",
   "metadata": {},
   "outputs": [
    {
     "data": {
      "text/plain": [
       "77.29796388888889"
      ]
     },
     "execution_count": 4,
     "metadata": {},
     "output_type": "execute_result"
    }
   ],
   "source": [
    "degDec(77, 17, 52.67)"
   ]
  },
  {
   "cell_type": "code",
   "execution_count": 5,
   "id": "18159df0",
   "metadata": {},
   "outputs": [
    {
     "data": {
      "text/plain": [
       "26.236108333333334"
      ]
     },
     "execution_count": 5,
     "metadata": {},
     "output_type": "execute_result"
    }
   ],
   "source": [
    "degDec(26, 14, 9.99)"
   ]
  },
  {
   "cell_type": "code",
   "execution_count": 6,
   "id": "8587c31f",
   "metadata": {},
   "outputs": [
    {
     "data": {
      "text/plain": [
       "77.30082777777777"
      ]
     },
     "execution_count": 6,
     "metadata": {},
     "output_type": "execute_result"
    }
   ],
   "source": [
    "degDec(77, 18, 2.98)"
   ]
  }
 ],
 "metadata": {
  "kernelspec": {
   "display_name": "gee",
   "language": "python",
   "name": "python3"
  },
  "language_info": {
   "codemirror_mode": {
    "name": "ipython",
    "version": 3
   },
   "file_extension": ".py",
   "mimetype": "text/x-python",
   "name": "python",
   "nbconvert_exporter": "python",
   "pygments_lexer": "ipython3",
   "version": "3.13.3"
  }
 },
 "nbformat": 4,
 "nbformat_minor": 5
}
